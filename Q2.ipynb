{
 "cells": [
  {
   "cell_type": "markdown",
   "id": "22b4076f-0468-42c7-8a04-e64e04b2b020",
   "metadata": {},
   "source": [
    "## Q2: OpenCV"
   ]
  },
  {
   "cell_type": "code",
   "execution_count": 15,
   "id": "cdb3b5a6-ba2b-446d-ad72-65cff4532e83",
   "metadata": {},
   "outputs": [],
   "source": [
    "import numpy as np\n",
    "import os\n",
    "import cv2\n",
    "from matplotlib import pyplot as plt"
   ]
  },
  {
   "cell_type": "raw",
   "id": "95c34638-beec-42bf-918d-96ab7cfad15f",
   "metadata": {},
   "source": [
    "!pip install opencv-python"
   ]
  },
  {
   "cell_type": "code",
   "execution_count": 17,
   "id": "43aaf40c-b886-4568-9cd8-4a401d681371",
   "metadata": {},
   "outputs": [],
   "source": [
    "# Defining image dimensions\n",
    "width, height = 256, 256\n",
    "\n",
    "# Create a blank image with black background\n",
    "image = np.ones((height, width, 3), dtype=np.uint8) * 0"
   ]
  },
  {
   "cell_type": "code",
   "execution_count": 19,
   "id": "fd554afc-c3ba-4653-99e6-61e026a12ec5",
   "metadata": {},
   "outputs": [],
   "source": [
    "# Define the number of circles and their properties\n",
    "num_circles = 7\n",
    "radius = 25"
   ]
  },
  {
   "cell_type": "code",
   "execution_count": 21,
   "id": "3e633188-2138-49cc-9df2-b679c539d072",
   "metadata": {},
   "outputs": [
    {
     "name": "stdout",
     "output_type": "stream",
     "text": [
      "The colors are [119, 46, 139]\n"
     ]
    }
   ],
   "source": [
    "color = np.random.randint(0, 256, (3,)).tolist()\n",
    "print(\"The colors are\", color)"
   ]
  },
  {
   "cell_type": "code",
   "execution_count": 23,
   "id": "9b50835c-3387-4a00-bbe2-3b9322e8ec00",
   "metadata": {},
   "outputs": [],
   "source": [
    "for _ in range(num_circles):\n",
    "    # Generate random color\n",
    "    color = np.random.randint(0, 256, (3,)).tolist()\n",
    "    # Generate random circle position\n",
    "    center = (np.random.randint(radius, width - radius),\n",
    "              np.random.randint(radius, height - radius))\n",
    "    # Draw the circle\n",
    "    cv2.circle(image, center, radius, color, -1)  # -1 fills the circle"
   ]
  },
  {
   "cell_type": "code",
   "execution_count": 25,
   "id": "a2ddfab8-de27-41e1-af2a-144dc9300f2a",
   "metadata": {},
   "outputs": [
    {
     "data": {
      "text/plain": [
       "32"
      ]
     },
     "execution_count": 25,
     "metadata": {},
     "output_type": "execute_result"
    }
   ],
   "source": [
    "# Display the image\n",
    "#cv2.imshow('Random Circles', image)\n",
    "#cv2.waitKey(0)"
   ]
  },
  {
   "cell_type": "code",
   "execution_count": null,
   "id": "685af9c4-6f8b-48f6-8421-f8a02a80c08c",
   "metadata": {},
   "outputs": [],
   "source": []
  },
  {
   "cell_type": "code",
   "execution_count": 27,
   "id": "2fb480d7-6350-4a1d-9801-7d690ef74264",
   "metadata": {},
   "outputs": [
    {
     "data": {
      "text/plain": [
       "<matplotlib.image.AxesImage at 0x1d9298a9d30>"
      ]
     },
     "execution_count": 27,
     "metadata": {},
     "output_type": "execute_result"
    },
    {
     "data": {
      "image/png": "[encoded data removed]",
      "text/plain": [
       "<Figure size 432x288 with 1 Axes>"
      ]
     },
     "metadata": {
      "needs_background": "light"
     },
     "output_type": "display_data"
    }
   ],
   "source": [
    "plt.imshow(image);"
   ]
  },
  {
   "cell_type": "code",
   "execution_count": null,
   "id": "621bd832-ef8c-4b53-b0ce-07760470771f",
   "metadata": {},
   "outputs": [],
   "source": []
  }
 ],
 "metadata": {
  "kernelspec": {
   "display_name": "Python 3 (ipykernel)",
   "language": "python",
   "name": "python3"
  },
  "language_info": {
   "codemirror_mode": {
    "name": "ipython",
    "version": 3
   },
   "file_extension": ".py",
   "mimetype": "text/x-python",
   "name": "python",
   "nbconvert_exporter": "python",
   "pygments_lexer": "ipython3",
   "version": "3.9.7"
  }
 },
 "nbformat": 4,
 "nbformat_minor": 5
}
