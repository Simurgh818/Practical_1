{
 "cells": [
  {
   "cell_type": "markdown",
   "id": "9919e4c5-17f4-4292-95e7-58b39f87e827",
   "metadata": {},
   "source": [
    "# Python Programmging Practice I: Medical Image Processing\n",
    "### Sina Dabiri\n",
    "### sdabiri3@gatech.edu\n",
    "### sdabiri@emory.edu"
   ]
  },
  {
   "cell_type": "markdown",
   "id": "43ddf8a1-8c58-4a4d-8e75-a6699e75d652",
   "metadata": {},
   "source": [
    "## Q1: Numpy"
   ]
  },
  {
   "cell_type": "code",
   "execution_count": 1,
   "id": "05d84a75-5f1e-4eb2-ba54-8a3f27055719",
   "metadata": {
    "tags": []
   },
   "outputs": [],
   "source": [
    "import numpy as np"
   ]
  },
  {
   "cell_type": "markdown",
   "id": "b040ef77-0f02-45b3-a8ed-7c7ba590a105",
   "metadata": {},
   "source": [
    "### a.Generate a pseudo-random numpy vector arr_1 with 5 numbers, each of which is between 0 and 1. Print arr_1. You must use a numpy seed value of 123. Make sure the “random” numbers remain the same every time you run the code."
   ]
  },
  {
   "cell_type": "code",
   "execution_count": 8,
   "id": "a85cd918-2dad-4a69-8fe5-0a8edfc17025",
   "metadata": {
    "tags": []
   },
   "outputs": [
    {
     "name": "stdout",
     "output_type": "stream",
     "text": [
      "[0.69646919 0.28613933 0.22685145 0.55131477 0.71946897]\n"
     ]
    }
   ],
   "source": [
    "np.random.seed(123)\n",
    "arr_1 = np.random.rand(5)\n",
    "print (arr_1)"
   ]
  },
  {
   "cell_type": "markdown",
   "id": "5383bd09-4083-47d9-852f-281036b71941",
   "metadata": {},
   "source": [
    "### b. Given an additional vector arr_2 as [0 1 2 3 4 5 6 7 8 9]. Please perform 1D convolution of arr_1 * arr_2 using a for loop. Print the result. You cannot use numpy.convolve()."
   ]
  },
  {
   "cell_type": "markdown",
   "id": "4c51e659-b737-4f89-9dd9-fdb185e2fc24",
   "metadata": {},
   "source": [
    "$ y = x * w \\rightarrow y[i]= \\sum_{k=0}^{(m-1)} x[i+m-k]w[k] $\n",
    "\n",
    "$ y = arr_1 * arr_2 \\rightarrow y[i]= \\sum_{k=0}^{(m-1)} arr_1[i+m-k] arr_2[k] $"
   ]
  },
  {
   "cell_type": "code",
   "execution_count": 15,
   "id": "e0c62c60-20ff-448c-8984-84b8feb40c20",
   "metadata": {
    "tags": []
   },
   "outputs": [
    {
     "name": "stdout",
     "output_type": "stream",
     "text": [
      "The second array in reverse is:  [9 8 7 6 5 4 3 2 1 0]\n",
      "The first array with padding is:  [0.         0.         0.         0.         0.         0.69646919\n",
      " 0.28613933 0.22685145 0.55131477 0.71946897 0.         0.\n",
      " 0.         0.         0.        ]\n"
     ]
    }
   ],
   "source": [
    "arr_2 = [0,1,2,3,4,5,6,7,8,9]\n",
    "arr_2_reverse = np.array(arr_2[::-1])\n",
    "print(\"The second array in reverse is: \", arr_2_reverse)\n",
    "\n",
    "p = 5 # padding of 4\n",
    "zeros = np.zeros(p)\n",
    "arr_1_padded = np.concatenate([zeros, arr_1, zeros])\n",
    "print(\"The first array with padding is: \", x_padded)\n",
    "y = np.empty((1,5))"
   ]
  },
  {
   "cell_type": "code",
   "execution_count": 18,
   "id": "4f9ee269-2add-40f1-aa8e-55053d6d49fe",
   "metadata": {
    "tags": []
   },
   "outputs": [
    {
     "data": {
      "text/plain": [
       "array([0.        , 0.        , 0.        , 0.        , 0.        ,\n",
       "       0.69646919, 0.28613933, 0.22685145, 0.55131477, 0.71946897])"
      ]
     },
     "execution_count": 18,
     "metadata": {},
     "output_type": "execute_result"
    }
   ],
   "source": [
    "arr_1_padded[0:0+arr_2_reverse.shape[0]]"
   ]
  },
  {
   "cell_type": "code",
   "execution_count": 22,
   "id": "54cd375f-ee02-499f-8a69-0fee2e71c873",
   "metadata": {
    "tags": []
   },
   "outputs": [
    {
     "name": "stdout",
     "output_type": "stream",
     "text": [
      "(15,)\n",
      "(10,)\n"
     ]
    }
   ],
   "source": [
    "print(arr_1_padded.shape)\n",
    "print(arr_2_reverse.shape)"
   ]
  },
  {
   "cell_type": "code",
   "execution_count": 26,
   "id": "e3ab5426-7609-4e3f-bda3-cd5f929b84d4",
   "metadata": {
    "tags": []
   },
   "outputs": [
    {
     "name": "stdout",
     "output_type": "stream",
     "text": [
      "The convolution result is:  [ 4.64931242  7.12955614  9.60979985 12.09004356 14.57028728]\n"
     ]
    }
   ],
   "source": [
    "for c in range(0,len(arr_1)):\n",
    "    y[c] = np.sum(arr_1_padded[c:c+arr_2_reverse.shape[0]] * arr_2_reverse)\n",
    "    \n",
    "print(\"The convolution result is: \", y)"
   ]
  },
  {
   "cell_type": "code",
   "execution_count": null,
   "id": "98d783b9-f2d0-4f7d-93c6-48409eb8f2d4",
   "metadata": {},
   "outputs": [],
   "source": []
  }
 ],
 "metadata": {
  "kernelspec": {
   "display_name": "Python 3 (ipykernel)",
   "language": "python",
   "name": "python3"
  },
  "language_info": {
   "codemirror_mode": {
    "name": "ipython",
    "version": 3
   },
   "file_extension": ".py",
   "mimetype": "text/x-python",
   "name": "python",
   "nbconvert_exporter": "python",
   "pygments_lexer": "ipython3",
   "version": "3.11.4"
  }
 },
 "nbformat": 4,
 "nbformat_minor": 5
}
