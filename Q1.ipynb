{
 "cells": [
  {
   "cell_type": "markdown",
   "id": "9919e4c5-17f4-4292-95e7-58b39f87e827",
   "metadata": {},
   "source": [
    "# Python Programmging Practice I: Medical Image Processing\n",
    "### Sina Dabiri\n",
    "### sdabiri3@gatech.edu\n",
    "### sdabiri@emory.edu"
   ]
  },
  {
   "cell_type": "markdown",
   "id": "43ddf8a1-8c58-4a4d-8e75-a6699e75d652",
   "metadata": {},
   "source": [
    "## Q1: Numpy"
   ]
  },
  {
   "cell_type": "code",
   "execution_count": 2,
   "id": "05d84a75-5f1e-4eb2-ba54-8a3f27055719",
   "metadata": {
    "tags": []
   },
   "outputs": [],
   "source": [
    "import numpy as np"
   ]
  },
  {
   "cell_type": "markdown",
   "id": "b040ef77-0f02-45b3-a8ed-7c7ba590a105",
   "metadata": {},
   "source": [
    "### a.Generate a pseudo-random numpy vector arr_1 with 5 numbers, each of which is between 0 and 1. Print arr_1. You must use a numpy seed value of 123. Make sure the “random” numbers remain the same every time you run the code."
   ]
  },
  {
   "cell_type": "code",
   "execution_count": 5,
   "id": "a85cd918-2dad-4a69-8fe5-0a8edfc17025",
   "metadata": {
    "tags": []
   },
   "outputs": [
    {
     "name": "stdout",
     "output_type": "stream",
     "text": [
      "[0.69646919 0.28613933 0.22685145 0.55131477 0.71946897]\n"
     ]
    }
   ],
   "source": [
    "np.random.seed(123)\n",
    "arr_1 = np.random.rand(5)\n",
    "print (arr_1)"
   ]
  },
  {
   "cell_type": "markdown",
   "id": "5383bd09-4083-47d9-852f-281036b71941",
   "metadata": {},
   "source": [
    "### b. Given an additional vector arr_2 as [0 1 2 3 4 5 6 7 8 9]. Please perform 1D convolution of arr_1 * arr_2 using a for loop. Print the result. You cannot use numpy.convolve()."
   ]
  },
  {
   "cell_type": "markdown",
   "id": "4c51e659-b737-4f89-9dd9-fdb185e2fc24",
   "metadata": {},
   "source": [
    "$ y = x * w \\rightarrow y[i]= \\sum_{k=0}^{(m-1)} x[i+m-k]w[k] $\n",
    "\n",
    "$ y = arr_1 * arr_2 \\rightarrow y[i]= \\sum_{k=0}^{(m-1)} arr_1[i+m-k] arr_2[k] $"
   ]
  },
  {
   "cell_type": "code",
   "execution_count": 9,
   "id": "e0c62c60-20ff-448c-8984-84b8feb40c20",
   "metadata": {
    "tags": []
   },
   "outputs": [
    {
     "name": "stdout",
     "output_type": "stream",
     "text": [
      "The second array in reverse is:  [9 8 7 6 5 4 3 2 1 0]\n",
      "The first array with padding is:  [0.         0.         0.         0.         0.         0.\n",
      " 0.         0.         0.         0.69646919 0.28613933 0.22685145\n",
      " 0.55131477 0.71946897 0.         0.         0.         0.\n",
      " 0.         0.         0.         0.         0.        ]\n"
     ]
    }
   ],
   "source": [
    "arr_2 = [0,1,2,3,4,5,6,7,8,9]\n",
    "arr_2_reverse = np.array(arr_2[::-1])\n",
    "print(\"The second array in reverse is: \", arr_2_reverse)\n",
    "\n",
    "# p: size of padding\n",
    "p = arr_2_reverse.shape[0]-1 # padding of 4\n",
    "zeros = np.zeros(p)\n",
    "arr_1_padded = np.concatenate([zeros, arr_1, zeros])\n",
    "print(\"The first array with padding is: \", arr_1_padded)\n",
    "y = np.empty(len(arr_1_padded) - len(arr_2_reverse) + 1)"
   ]
  },
  {
   "cell_type": "code",
   "execution_count": 11,
   "id": "4f9ee269-2add-40f1-aa8e-55053d6d49fe",
   "metadata": {
    "tags": []
   },
   "outputs": [
    {
     "data": {
      "text/plain": [
       "array([0.        , 0.        , 0.        , 0.        , 0.        ,\n",
       "       0.        , 0.        , 0.        , 0.        , 0.69646919])"
      ]
     },
     "execution_count": 11,
     "metadata": {},
     "output_type": "execute_result"
    }
   ],
   "source": [
    "arr_1_padded[0:0+arr_2_reverse.shape[0]]"
   ]
  },
  {
   "cell_type": "code",
   "execution_count": 13,
   "id": "54cd375f-ee02-499f-8a69-0fee2e71c873",
   "metadata": {
    "tags": []
   },
   "outputs": [
    {
     "name": "stdout",
     "output_type": "stream",
     "text": [
      "Size of array 1 padded:  23\n",
      "size of array 2:  10\n"
     ]
    }
   ],
   "source": [
    "# n: size of array 1\n",
    "# m: size of array 2\n",
    "n_p = arr_1_padded.shape[0] # n+2p\n",
    "print(\"Size of array 1 padded: \", n_p)\n",
    "m = arr_2_reverse.shape[0]\n",
    "print(\"size of array 2: \", m)"
   ]
  },
  {
   "cell_type": "code",
   "execution_count": 15,
   "id": "5bb9180a-f5a2-4513-a243-322b7a12ff37",
   "metadata": {},
   "outputs": [
    {
     "name": "stdout",
     "output_type": "stream",
     "text": [
      "The convolution output size:  14\n"
     ]
    }
   ],
   "source": [
    "# output_size:[n+2p-m]+1 \n",
    "output_size = n_p-m+1\n",
    "print(\"The convolution output size: \", output_size)"
   ]
  },
  {
   "cell_type": "code",
   "execution_count": 17,
   "id": "e3ab5426-7609-4e3f-bda3-cd5f929b84d4",
   "metadata": {
    "tags": []
   },
   "outputs": [
    {
     "name": "stdout",
     "output_type": "stream",
     "text": [
      "The convolution result is:  [ 0.          0.69646919  1.67907771  2.88853768  4.64931242  7.12955614\n",
      "  9.60979985 12.09004356 14.57028728 17.05053099 12.56608285 11.48846402\n",
      " 10.71758468  6.47522073]\n"
     ]
    }
   ],
   "source": [
    "for c in range(0, output_size):\n",
    "    y[c] = np.sum(arr_1_padded[c:c + arr_2_reverse.shape[0]] * arr_2_reverse)\n",
    "\n",
    "print(\"The convolution result is: \", y)"
   ]
  },
  {
   "cell_type": "code",
   "execution_count": 19,
   "id": "9e625bcc-c7a1-416c-8e63-b7a35e98a5ac",
   "metadata": {
    "tags": []
   },
   "outputs": [
    {
     "name": "stdout",
     "output_type": "stream",
     "text": [
      "[ 0.          0.69646919  1.67907771  2.88853768  4.64931242  7.12955614\n",
      "  9.60979985 12.09004356 14.57028728 17.05053099 12.56608285 11.48846402\n",
      " 10.71758468  6.47522073]\n"
     ]
    }
   ],
   "source": [
    "# Checking the answer:\n",
    "d = np.convolve(arr_1, arr_2)\n",
    "print(d)"
   ]
  },
  {
   "cell_type": "markdown",
   "id": "4b896b73-9283-4109-a652-e4caa5bf0354",
   "metadata": {},
   "source": [
    "### C. Repeat your implementation for arr_2 * arr_1. Compare the results and comment on the finding."
   ]
  },
  {
   "cell_type": "code",
   "execution_count": 22,
   "id": "adbef000-53e7-4cfc-8897-59ae499d4522",
   "metadata": {
    "tags": []
   },
   "outputs": [
    {
     "name": "stdout",
     "output_type": "stream",
     "text": [
      "array 1 in reverse order:  [0.71946897 0.55131477 0.22685145 0.28613933 0.69646919]\n"
     ]
    }
   ],
   "source": [
    "arr_1_reverse = np.array(arr_1[::-1])\n",
    "print(\"array 1 in reverse order: \", arr_1_reverse)"
   ]
  },
  {
   "cell_type": "code",
   "execution_count": 24,
   "id": "cf192efd-e98b-4142-8fcc-1919656beff9",
   "metadata": {},
   "outputs": [
    {
     "name": "stdout",
     "output_type": "stream",
     "text": [
      "The array 2 with padding is:  [0. 0. 0. 0. 0. 1. 2. 3. 4. 5. 6. 7. 8. 9. 0. 0. 0. 0.]\n"
     ]
    }
   ],
   "source": [
    "# p: size of padding\n",
    "p2 = arr_1_reverse.shape[0]-1 # padding of 4\n",
    "zeros = np.zeros(p2)\n",
    "arr_2_padded = np.concatenate([zeros, arr_2, zeros])\n",
    "print(\"The array 2 with padding is: \", arr_2_padded)"
   ]
  },
  {
   "cell_type": "code",
   "execution_count": 26,
   "id": "a505aec3-6d8f-4225-b304-346f87847e8d",
   "metadata": {
    "tags": []
   },
   "outputs": [
    {
     "name": "stdout",
     "output_type": "stream",
     "text": [
      "Size of array 2 padded:  18\n",
      "size of array 1:  5\n"
     ]
    }
   ],
   "source": [
    "# n: size of array 1\n",
    "# m: size of array 2\n",
    "n_p2 = arr_2_padded.shape[0] # n+2p\n",
    "print(\"Size of array 2 padded: \", n_p2)\n",
    "m2 = arr_1_reverse.shape[0]\n",
    "print(\"size of array 1: \", m2)\n",
    "\n",
    "y2 = np.empty(n_p2 - m2 + 1)"
   ]
  },
  {
   "cell_type": "code",
   "execution_count": 28,
   "id": "5c686c81-b7c6-4ee2-bdfc-67f33e1d7659",
   "metadata": {
    "tags": []
   },
   "outputs": [
    {
     "name": "stdout",
     "output_type": "stream",
     "text": [
      "The convolution output size:  14\n"
     ]
    }
   ],
   "source": [
    "# output_size:[n+2p-m]+1 \n",
    "output_size2 = n_p2-m2+1\n",
    "print(\"The convolution output size: \", output_size2)"
   ]
  },
  {
   "cell_type": "code",
   "execution_count": 30,
   "id": "ff4ef141-f827-42bb-bad7-9cfb289fbc77",
   "metadata": {
    "tags": []
   },
   "outputs": [
    {
     "name": "stdout",
     "output_type": "stream",
     "text": [
      "The convolution result is:  [ 0.          0.69646919  1.67907771  2.88853768  4.64931242  7.12955614\n",
      "  9.60979985 12.09004356 14.57028728 17.05053099 12.56608285 11.48846402\n",
      " 10.71758468  6.47522073]\n"
     ]
    }
   ],
   "source": [
    "for c in range(0, output_size2):\n",
    "    y2[c] = np.sum(arr_2_padded[c:c + arr_1_reverse.shape[0]] * arr_1_reverse)\n",
    "\n",
    "print(\"The convolution result is: \", y2)"
   ]
  },
  {
   "cell_type": "code",
   "execution_count": 32,
   "id": "834c9692-eaab-4fe0-9fb5-60267e64c8a2",
   "metadata": {
    "tags": []
   },
   "outputs": [
    {
     "name": "stdout",
     "output_type": "stream",
     "text": [
      "[ 0.          0.69646919  1.67907771  2.88853768  4.64931242  7.12955614\n",
      "  9.60979985 12.09004356 14.57028728 17.05053099 12.56608285 11.48846402\n",
      " 10.71758468  6.47522073]\n"
     ]
    }
   ],
   "source": [
    "# check answer:\n",
    "\n",
    "d2 = np.convolve(arr_2, arr_1)\n",
    "print(d2)"
   ]
  },
  {
   "cell_type": "markdown",
   "id": "66740d47-528a-4a11-98bb-e64b19e7cfba",
   "metadata": {},
   "source": [
    "#### The results are the same, which makes sense it doesn't matter the order of flipping and moving which array across, the individual number multiplication and summation results in the same answer. "
   ]
  },
  {
   "cell_type": "markdown",
   "id": "8ba5b6eb-3f6a-4058-8bea-fb410ee0bfce",
   "metadata": {},
   "source": [
    "### d. 2D cross-correlation function: 6x5 array (np.random.randint(10)) and 3x3 kernel. Infer padding and stride based on the given information."
   ]
  },
  {
   "cell_type": "code",
   "execution_count": 63,
   "id": "c887cd8a-864a-442f-b1b9-2eea4b4a82d7",
   "metadata": {
    "tags": []
   },
   "outputs": [
    {
     "name": "stdout",
     "output_type": "stream",
     "text": [
      "The filter is:  [[0 0 1 1 1]\n",
      " [0 1 1 1 1]\n",
      " [1 1 0 1 1]\n",
      " [1 1 1 1 1]\n",
      " [1 1 1 1 1]\n",
      " [1 1 0 1 0]]\n",
      "The third array is:  [[9 0 2 1 8]\n",
      " [6 5 0 2 6]\n",
      " [2 4 1 6 3]\n",
      " [0 6 4 7 6]\n",
      " [7 1 5 7 9]\n",
      " [2 4 2 1 1]]\n"
     ]
    }
   ],
   "source": [
    "arr_3 = np.empty((6,5))\n",
    "arr_3 = [np.random.randint(0,10) for i in range(30)]\n",
    "arr_3 = np.reshape(arr_3,(6,5))\n",
    "filt = np.array([[0,0,1,1,1],[0,1,1,1,1],[1,1,0,1,1],[1,1,1,1,1],[1,1,1,1,1],[1,1,0,1,0]])\n",
    "arr_3_b = np.array([[9,0,0,0,0],[6,0,0,0,0],[0,0,1,0,0],[0,0,0,0,0],[0,0,0,0,0],[0,0,2,0,1]])\n",
    "print(\"The filter is: \",filt)\n",
    "arr_3 = arr_3 * filt + arr_3_b\n",
    "print(\"The third array is: \",arr_3)"
   ]
  },
  {
   "cell_type": "code",
   "execution_count": 65,
   "id": "6ce76be9-a1cd-4cde-884b-26d7efb80eac",
   "metadata": {
    "tags": []
   },
   "outputs": [
    {
     "name": "stdout",
     "output_type": "stream",
     "text": [
      "The array 4 is:  [[ 0 -1 -1]\n",
      " [-1  9  2]\n",
      " [-1 -1 -1]]\n"
     ]
    }
   ],
   "source": [
    "arr_4 = np.array([[0,-1,-1],[-1,9,2],[-1,-1,-1]])\n",
    "print(\"The array 4 is: \", arr_4)"
   ]
  },
  {
   "cell_type": "code",
   "execution_count": 67,
   "id": "cd2c4e47-e7ba-40a4-887f-87a72831370e",
   "metadata": {
    "tags": []
   },
   "outputs": [
    {
     "name": "stdout",
     "output_type": "stream",
     "text": [
      "Padding size is:  0\n",
      "padding zeros row are:  []\n",
      "padding zeros column are:  []\n",
      "The array 3 with padding is:  [[9. 0. 2. 1. 8.]\n",
      " [6. 5. 0. 2. 6.]\n",
      " [2. 4. 1. 6. 3.]\n",
      " [0. 6. 4. 7. 6.]\n",
      " [7. 1. 5. 7. 9.]\n",
      " [2. 4. 2. 1. 1.]]\n"
     ]
    }
   ],
   "source": [
    "# p_2d: size of padding is zero, since output is smaller than input\n",
    "p_2d = 0 # padding\n",
    "print(\"Padding size is: \", p_2d)\n",
    "zeros_r = np.zeros((p_2d,arr_3.shape[1]))\n",
    "print(\"padding zeros row are: \", zeros_r)\n",
    "\n",
    "arr_3_padded_r = np.concatenate([zeros_r, arr_3, zeros_r],axis=0)\n",
    "\n",
    "zeros_c = np.zeros((p_2d,arr_3_padded_r.shape[0])).transpose()\n",
    "print(\"padding zeros column are: \", zeros_c)\n",
    "arr_3_padded = np.concatenate([zeros_c, arr_3_padded_r, zeros_c],axis=1)\n",
    "print(\"The array 3 with padding is: \", arr_3_padded)"
   ]
  },
  {
   "cell_type": "code",
   "execution_count": 69,
   "id": "440a8444-f24e-471d-8b7b-f59b812862ff",
   "metadata": {
    "tags": []
   },
   "outputs": [
    {
     "name": "stdout",
     "output_type": "stream",
     "text": [
      "Size of array 3 padded:  6 5\n",
      "size of array 4:  3 3\n"
     ]
    }
   ],
   "source": [
    "# nxm: size of array 3\n",
    "# kxl: size of array 4\n",
    "n_p,m_p = arr_3_padded.shape # n+2p\n",
    "print(\"Size of array 3 padded: \", n_p,m_p)\n",
    "k,l = arr_4.shape\n",
    "print(\"size of array 4: \", k,l)"
   ]
  },
  {
   "cell_type": "code",
   "execution_count": 71,
   "id": "370ee505-6457-4486-94ad-963860473a32",
   "metadata": {
    "tags": []
   },
   "outputs": [
    {
     "name": "stdout",
     "output_type": "stream",
     "text": [
      "(4, 3)\n"
     ]
    }
   ],
   "source": [
    "y_2d = np.empty((n_p - k + 1,m_p-l+1))\n",
    "print(np.shape(y_2d))"
   ]
  },
  {
   "cell_type": "code",
   "execution_count": 88,
   "id": "09119900-dbaf-4e52-a106-e7c88439fc47",
   "metadata": {
    "tags": []
   },
   "outputs": [
    {
     "name": "stdout",
     "output_type": "stream",
     "text": [
      "The convolution output size:  (4, 3)\n"
     ]
    }
   ],
   "source": [
    "# output_size:[n+2p-m]/s+1, p: padding, s: stride. Assuming stride of 1. \n",
    "output_size_2d = (n_p-k+1,m_p-l+1)\n",
    "print(\"The convolution output size: \", output_size_2d)"
   ]
  },
  {
   "cell_type": "code",
   "execution_count": 75,
   "id": "fc018dca-b639-490a-85e6-fe8338db2fd4",
   "metadata": {
    "tags": []
   },
   "outputs": [
    {
     "name": "stdout",
     "output_type": "stream",
     "text": [
      "The convolution result is:  [[ 30. -15.  11.]\n",
      " [ 21.  -2.  34.]\n",
      " [ 44.  24.  41.]\n",
      " [ -6.  40.  59.]]\n"
     ]
    }
   ],
   "source": [
    "for i in range(0, output_size_2d[0]):\n",
    "    for j in range(0, output_size_2d[1]):\n",
    "        y_2d[i,j] = np.sum(arr_3_padded[i:i + arr_4.shape[0],j:j + arr_4.shape[1]] * arr_4)\n",
    "\n",
    "print(\"The convolution result is: \", y_2d)"
   ]
  },
  {
   "cell_type": "code",
   "execution_count": 124,
   "id": "40cd8c06-3928-4f8c-8899-ed616d5a7b7c",
   "metadata": {},
   "outputs": [],
   "source": [
    "def cross_corr_2d(arr_1, arr_2, p_2d, s):\n",
    "\n",
    "    print(\"Padding size is: \", p_2d)\n",
    "    zeros_r = np.zeros((p_2d,arr_1.shape[1]))\n",
    "    arr_1_padded_r = np.concatenate([zeros_r, arr_1, zeros_r],axis=0)\n",
    "    zeros_c = np.zeros((p_2d,arr_1_padded_r.shape[0])).transpose()\n",
    "    arr_1_padded = np.concatenate([zeros_c, arr_1_padded_r, zeros_c],axis=1)\n",
    "    \n",
    "    # nxm: size of array 3\n",
    "    # kxl: size of array 4\n",
    "    n,m = arr_1.shape\n",
    "    n_p,m_p = arr_1_padded.shape # n+2p\n",
    "    print(\"Size of array 1 padded: \", n_p,m_p)\n",
    "    k,l = arr_2.shape\n",
    "    print(\"size of array 2: \", k,l)\n",
    "    \n",
    "    # output_size:[n+2p-m]/s+1 \n",
    "    o_n =  int((n+2*p_2d-k)/s+1)\n",
    "    o_m =  int((m+2*p_2d-l)/s+1)\n",
    "    print(\"The output dimensions are: \",o_n,o_m)\n",
    "    y_2d = np.empty((o_n,o_m))\n",
    "\n",
    "    for i in range(0, output_size_2d[0]):\n",
    "        for j in range(0, output_size_2d[1]):\n",
    "            y_2d[i,j] = np.sum(arr_1_padded[i:i + arr_2.shape[0],j:j + arr_2.shape[1]] * arr_2)\n",
    "\n",
    "    \n",
    "    return y_2d"
   ]
  },
  {
   "cell_type": "code",
   "execution_count": 126,
   "id": "50f699b0-9c26-4443-8903-608f9e1af7a8",
   "metadata": {},
   "outputs": [
    {
     "name": "stdout",
     "output_type": "stream",
     "text": [
      "Padding size is:  0\n",
      "Size of array 1 padded:  6 5\n",
      "size of array 2:  3 3\n",
      "The output dimensions are:  4 3\n",
      "The cross correlation of array 3 and 4 are:  [[ 30. -15.  11.]\n",
      " [ 21.  -2.  34.]\n",
      " [ 44.  24.  41.]\n",
      " [ -6.  40.  59.]]\n"
     ]
    }
   ],
   "source": [
    "# check function:\n",
    "# p_2d: size of padding is zero, since output is smaller than input\n",
    "p_2d = 0\n",
    "s = 1 # stride of 1\n",
    "y_2d_f = cross_corr_2d(arr_3, arr_4,p_2d,s)\n",
    "\n",
    "print(\"The cross correlation of array 3 and 4 are: \", y_2d_f)"
   ]
  },
  {
   "cell_type": "code",
   "execution_count": 128,
   "id": "6a4d0cc3-9dcc-4546-9c02-fd1f9649a8dd",
   "metadata": {
    "tags": []
   },
   "outputs": [],
   "source": [
    "from scipy.signal import correlate2d"
   ]
  },
  {
   "cell_type": "code",
   "execution_count": 130,
   "id": "c1874f10-d4f3-4710-9bf3-cca546fdcbf4",
   "metadata": {
    "tags": []
   },
   "outputs": [
    {
     "name": "stdout",
     "output_type": "stream",
     "text": [
      "(4, 3)\n",
      "[[ 30 -15  11]\n",
      " [ 21  -2  34]\n",
      " [ 44  24  41]\n",
      " [ -6  40  59]]\n"
     ]
    }
   ],
   "source": [
    "# check answer:\n",
    "\n",
    "answer = correlate2d(arr_3, arr_4,mode='valid')\n",
    "print(np.shape(answer))\n",
    "print(answer)"
   ]
  },
  {
   "cell_type": "markdown",
   "id": "3964ff4d-9ef8-40a0-b0c9-886a6099b45f",
   "metadata": {},
   "source": [
    "### e. Load the numpy array file from Canvas using numpy.load(). Reuse the same 3x3 filter and the function you wrote from part d. Keep the same padding and stride. Assign the resulting array to a variable called Q1e_output."
   ]
  },
  {
   "cell_type": "code",
   "execution_count": 133,
   "id": "57ca367b-b67f-4005-aaa6-18e7ac20bca6",
   "metadata": {},
   "outputs": [
    {
     "data": {
      "text/plain": [
       "'C:\\\\Users\\\\sinad\\\\OneDrive - Georgia Institute of Technology\\\\BMED 6780 - Med Image Processing\\\\Programming Practicals\\\\Practical 1\\\\Practical_1'"
      ]
     },
     "execution_count": 133,
     "metadata": {},
     "output_type": "execute_result"
    }
   ],
   "source": [
    "pwd"
   ]
  },
  {
   "cell_type": "code",
   "execution_count": 135,
   "id": "38433cc4-9262-4cf0-9650-5013579bf32d",
   "metadata": {},
   "outputs": [],
   "source": [
    "import os"
   ]
  },
  {
   "cell_type": "code",
   "execution_count": 137,
   "id": "721ded22-bffc-4a75-b3bb-da243ead7861",
   "metadata": {},
   "outputs": [
    {
     "name": "stdout",
     "output_type": "stream",
     "text": [
      "The file path is:  C:\\Users\\sinad\\OneDrive - Georgia Institute of Technology\\BMED 6780 - Med Image Processing\\Programming Practicals\\Practical 1\\Q1e_array.npy\n"
     ]
    }
   ],
   "source": [
    "path = 'C:\\\\Users\\\\sinad\\\\OneDrive - Georgia Institute of Technology\\\\BMED 6780 - Med Image Processing\\\\Programming Practicals\\\\Practical 1\\\\Q1e_array.npy'\n",
    "file_path = input_file = os.path.abspath(path)\n",
    "print(\"The file path is: \", file_path)"
   ]
  },
  {
   "cell_type": "code",
   "execution_count": 139,
   "id": "92c10dfe-b020-48f7-9411-bd5acbae7c1b",
   "metadata": {},
   "outputs": [
    {
     "name": "stdout",
     "output_type": "stream",
     "text": [
      "Q1e array is:  [[ 6  1  3 ...  7  3 15]\n",
      " [ 1 19  1 ... 12  2  4]\n",
      " [ 6 14  7 ...  9  8 12]\n",
      " ...\n",
      " [ 1 10  1 ... 17  6  1]\n",
      " [ 4 10 16 ... 10  8  3]\n",
      " [17  3 18 ... 15 16  2]]\n"
     ]
    }
   ],
   "source": [
    "arr_5 = np.load(file_path)\n",
    "print(\"Q1e array is: \", arr_5)"
   ]
  },
  {
   "cell_type": "code",
   "execution_count": 141,
   "id": "460e801b-44eb-40f2-b2f8-9aa21bfb42f0",
   "metadata": {},
   "outputs": [
    {
     "name": "stdout",
     "output_type": "stream",
     "text": [
      "Padding size is:  0\n",
      "Size of array 1 padded:  200 150\n",
      "size of array 2:  3 3\n",
      "The output dimensions are:  198 148\n",
      "The cross correlation of Q1e array and 3x3 filter is:  [[141. -21.  84. ...   0.   0.   0.]\n",
      " [ 94.  25.  24. ...   0.   0.   0.]\n",
      " [ 80.   7.  16. ...   0.   0.   0.]\n",
      " ...\n",
      " [  0.   0.   0. ...   0.   0.   0.]\n",
      " [  0.   0.   0. ...   0.   0.   0.]\n",
      " [  0.   0.   0. ...   0.   0.   0.]]\n"
     ]
    }
   ],
   "source": [
    "Q1e_output = cross_corr_2d(arr_5, arr_4,p_2d,s)\n",
    "print(\"The cross correlation of Q1e array and 3x3 filter is: \", Q1e_output)"
   ]
  },
  {
   "cell_type": "code",
   "execution_count": null,
   "id": "323a75f4-2ca8-49e2-b23f-332bd4307786",
   "metadata": {},
   "outputs": [],
   "source": []
  }
 ],
 "metadata": {
  "kernelspec": {
   "display_name": "Python 3 (ipykernel)",
   "language": "python",
   "name": "python3"
  },
  "language_info": {
   "codemirror_mode": {
    "name": "ipython",
    "version": 3
   },
   "file_extension": ".py",
   "mimetype": "text/x-python",
   "name": "python",
   "nbconvert_exporter": "python",
   "pygments_lexer": "ipython3",
   "version": "3.11.4"
  }
 },
 "nbformat": 4,
 "nbformat_minor": 5
}
