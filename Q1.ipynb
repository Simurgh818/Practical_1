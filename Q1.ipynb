{
 "cells": [
  {
   "cell_type": "markdown",
   "id": "9919e4c5-17f4-4292-95e7-58b39f87e827",
   "metadata": {},
   "source": [
    "# Python Programmging Practice I: Medical Image Processing\n",
    "### Sina Dabiri\n",
    "### sdabiri3@gatech.edu\n",
    "### sdabiri@emory.edu"
   ]
  },
  {
   "cell_type": "markdown",
   "id": "43ddf8a1-8c58-4a4d-8e75-a6699e75d652",
   "metadata": {},
   "source": [
    "## Q1: Numpy"
   ]
  },
  {
   "cell_type": "code",
   "execution_count": 1,
   "id": "05d84a75-5f1e-4eb2-ba54-8a3f27055719",
   "metadata": {
    "tags": []
   },
   "outputs": [],
   "source": [
    "import numpy as np"
   ]
  },
  {
   "cell_type": "markdown",
   "id": "b040ef77-0f02-45b3-a8ed-7c7ba590a105",
   "metadata": {},
   "source": [
    "### a.Generate a pseudo-random numpy vector arr_1 with 5 numbers, each of which is between 0 and 1. Print arr_1. You must use a numpy seed value of 123. Make sure the “random” numbers remain the same every time you run the code."
   ]
  },
  {
   "cell_type": "code",
   "execution_count": 4,
   "id": "a85cd918-2dad-4a69-8fe5-0a8edfc17025",
   "metadata": {
    "tags": []
   },
   "outputs": [
    {
     "name": "stdout",
     "output_type": "stream",
     "text": [
      "[0.69646919 0.28613933 0.22685145 0.55131477 0.71946897]\n"
     ]
    }
   ],
   "source": [
    "np.random.seed(123)\n",
    "arr_1 = np.random.rand(5)\n",
    "print (arr_1)"
   ]
  },
  {
   "cell_type": "markdown",
   "id": "5383bd09-4083-47d9-852f-281036b71941",
   "metadata": {},
   "source": [
    "### b. Given an additional vector arr_2 as [0 1 2 3 4 5 6 7 8 9]. Please perform 1D convolution of arr_1 * arr_2 using a for loop. Print the result. You cannot use numpy.convolve()."
   ]
  },
  {
   "cell_type": "markdown",
   "id": "4c51e659-b737-4f89-9dd9-fdb185e2fc24",
   "metadata": {},
   "source": [
    "$ y = x * w \\rightarrow y[i]= \\sum_{k=0}^{(m-1)} x[i+m-k]w[k] $\n",
    "\n",
    "$ y = arr_1 * arr_2 \\rightarrow y[i]= \\sum_{k=0}^{(m-1)} arr_1[i+m-k] arr_2[k] $"
   ]
  },
  {
   "cell_type": "code",
   "execution_count": 8,
   "id": "e0c62c60-20ff-448c-8984-84b8feb40c20",
   "metadata": {
    "tags": []
   },
   "outputs": [
    {
     "name": "stdout",
     "output_type": "stream",
     "text": [
      "The second array in reverse is:  [9 8 7 6 5 4 3 2 1 0]\n",
      "The first array with padding is:  [0.         0.         0.         0.         0.         0.\n",
      " 0.         0.         0.         0.69646919 0.28613933 0.22685145\n",
      " 0.55131477 0.71946897 0.         0.         0.         0.\n",
      " 0.         0.         0.         0.         0.        ]\n"
     ]
    }
   ],
   "source": [
    "arr_2 = [0,1,2,3,4,5,6,7,8,9]\n",
    "arr_2_reverse = np.array(arr_2[::-1])\n",
    "print(\"The second array in reverse is: \", arr_2_reverse)\n",
    "\n",
    "# p: size of padding\n",
    "p = arr_2_reverse.shape[0]-1 # padding of 4\n",
    "zeros = np.zeros(p)\n",
    "arr_1_padded = np.concatenate([zeros, arr_1, zeros])\n",
    "print(\"The first array with padding is: \", arr_1_padded)\n",
    "y = np.empty(len(arr_1_padded) - len(arr_2_reverse) + 1)"
   ]
  },
  {
   "cell_type": "code",
   "execution_count": 10,
   "id": "4f9ee269-2add-40f1-aa8e-55053d6d49fe",
   "metadata": {
    "tags": []
   },
   "outputs": [
    {
     "data": {
      "text/plain": [
       "array([0.        , 0.        , 0.        , 0.        , 0.        ,\n",
       "       0.        , 0.        , 0.        , 0.        , 0.69646919])"
      ]
     },
     "execution_count": 10,
     "metadata": {},
     "output_type": "execute_result"
    }
   ],
   "source": [
    "arr_1_padded[0:0+arr_2_reverse.shape[0]]"
   ]
  },
  {
   "cell_type": "code",
   "execution_count": 27,
   "id": "54cd375f-ee02-499f-8a69-0fee2e71c873",
   "metadata": {
    "tags": []
   },
   "outputs": [
    {
     "name": "stdout",
     "output_type": "stream",
     "text": [
      "Size of array 1 padded:  23\n",
      "size of array 2:  10\n"
     ]
    }
   ],
   "source": [
    "# n: size of array 1\n",
    "# m: size of array 2\n",
    "n_p = arr_1_padded.shape[0] # n+2p\n",
    "print(\"Size of array 1 padded: \", n_p)\n",
    "m = arr_2_reverse.shape[0]\n",
    "print(\"size of array 2: \", m)"
   ]
  },
  {
   "cell_type": "code",
   "execution_count": 33,
   "id": "5bb9180a-f5a2-4513-a243-322b7a12ff37",
   "metadata": {},
   "outputs": [
    {
     "name": "stdout",
     "output_type": "stream",
     "text": [
      "The convolution output size:  14\n"
     ]
    }
   ],
   "source": [
    "# output_size:[n+2p-m]+1 \n",
    "output_size = n_p-m+1\n",
    "print(\"The convolution output size: \", output_size)"
   ]
  },
  {
   "cell_type": "code",
   "execution_count": 31,
   "id": "e3ab5426-7609-4e3f-bda3-cd5f929b84d4",
   "metadata": {
    "tags": []
   },
   "outputs": [
    {
     "name": "stdout",
     "output_type": "stream",
     "text": [
      "The convolution result is:  [ 0.          0.69646919  1.67907771  2.88853768  4.64931242  7.12955614\n",
      "  9.60979985 12.09004356 14.57028728 17.05053099 12.56608285 11.48846402\n",
      " 10.71758468  6.47522073]\n"
     ]
    }
   ],
   "source": [
    "for c in range(0, output_size):\n",
    "    y[c] = np.sum(arr_1_padded[c:c + arr_2_reverse.shape[0]] * arr_2_reverse)\n",
    "\n",
    "print(\"The convolution result is: \", y)"
   ]
  },
  {
   "cell_type": "code",
   "execution_count": 23,
   "id": "9e625bcc-c7a1-416c-8e63-b7a35e98a5ac",
   "metadata": {
    "tags": []
   },
   "outputs": [
    {
     "name": "stdout",
     "output_type": "stream",
     "text": [
      "[ 0.          0.69646919  1.67907771  2.88853768  4.64931242  7.12955614\n",
      "  9.60979985 12.09004356 14.57028728 17.05053099 12.56608285 11.48846402\n",
      " 10.71758468  6.47522073]\n"
     ]
    }
   ],
   "source": [
    "# Checking the answer:\n",
    "d = np.convolve(arr_1, arr_2)\n",
    "print(d)"
   ]
  },
  {
   "cell_type": "markdown",
   "id": "4b896b73-9283-4109-a652-e4caa5bf0354",
   "metadata": {},
   "source": [
    "### C. Repeat your implementation for arr_2 * arr_1. Compare the results and comment on the finding."
   ]
  },
  {
   "cell_type": "code",
   "execution_count": 35,
   "id": "adbef000-53e7-4cfc-8897-59ae499d4522",
   "metadata": {
    "tags": []
   },
   "outputs": [
    {
     "name": "stdout",
     "output_type": "stream",
     "text": [
      "array 1 in reverse order:  [0.71946897 0.55131477 0.22685145 0.28613933 0.69646919]\n"
     ]
    }
   ],
   "source": [
    "arr_1_reverse = np.array(arr_1[::-1])\n",
    "print(\"array 1 in reverse order: \", arr_1_reverse)"
   ]
  },
  {
   "cell_type": "code",
   "execution_count": 37,
   "id": "cf192efd-e98b-4142-8fcc-1919656beff9",
   "metadata": {},
   "outputs": [
    {
     "name": "stdout",
     "output_type": "stream",
     "text": [
      "The array 2 with padding is:  [0. 0. 0. 0. 0. 1. 2. 3. 4. 5. 6. 7. 8. 9. 0. 0. 0. 0.]\n"
     ]
    }
   ],
   "source": [
    "# p: size of padding\n",
    "p2 = arr_1_reverse.shape[0]-1 # padding of 4\n",
    "zeros = np.zeros(p2)\n",
    "arr_2_padded = np.concatenate([zeros, arr_2, zeros])\n",
    "print(\"The array 2 with padding is: \", arr_2_padded)"
   ]
  },
  {
   "cell_type": "code",
   "execution_count": 41,
   "id": "a505aec3-6d8f-4225-b304-346f87847e8d",
   "metadata": {
    "tags": []
   },
   "outputs": [
    {
     "name": "stdout",
     "output_type": "stream",
     "text": [
      "Size of array 2 padded:  18\n",
      "size of array 1:  5\n"
     ]
    }
   ],
   "source": [
    "# n: size of array 1\n",
    "# m: size of array 2\n",
    "n_p2 = arr_2_padded.shape[0] # n+2p\n",
    "print(\"Size of array 2 padded: \", n_p2)\n",
    "m2 = arr_1_reverse.shape[0]\n",
    "print(\"size of array 1: \", m2)\n",
    "\n",
    "y2 = np.empty(n_p2 - m2 + 1)"
   ]
  },
  {
   "cell_type": "code",
   "execution_count": 43,
   "id": "5c686c81-b7c6-4ee2-bdfc-67f33e1d7659",
   "metadata": {
    "tags": []
   },
   "outputs": [
    {
     "name": "stdout",
     "output_type": "stream",
     "text": [
      "The convolution output size:  14\n"
     ]
    }
   ],
   "source": [
    "# output_size:[n+2p-m]+1 \n",
    "output_size2 = n_p2-m2+1\n",
    "print(\"The convolution output size: \", output_size2)"
   ]
  },
  {
   "cell_type": "code",
   "execution_count": 45,
   "id": "ff4ef141-f827-42bb-bad7-9cfb289fbc77",
   "metadata": {
    "tags": []
   },
   "outputs": [
    {
     "name": "stdout",
     "output_type": "stream",
     "text": [
      "The convolution result is:  [ 0.          0.69646919  1.67907771  2.88853768  4.64931242  7.12955614\n",
      "  9.60979985 12.09004356 14.57028728 17.05053099 12.56608285 11.48846402\n",
      " 10.71758468  6.47522073]\n"
     ]
    }
   ],
   "source": [
    "for c in range(0, output_size2):\n",
    "    y2[c] = np.sum(arr_2_padded[c:c + arr_1_reverse.shape[0]] * arr_1_reverse)\n",
    "\n",
    "print(\"The convolution result is: \", y2)"
   ]
  },
  {
   "cell_type": "code",
   "execution_count": 47,
   "id": "834c9692-eaab-4fe0-9fb5-60267e64c8a2",
   "metadata": {
    "tags": []
   },
   "outputs": [
    {
     "name": "stdout",
     "output_type": "stream",
     "text": [
      "[ 0.          0.69646919  1.67907771  2.88853768  4.64931242  7.12955614\n",
      "  9.60979985 12.09004356 14.57028728 17.05053099 12.56608285 11.48846402\n",
      " 10.71758468  6.47522073]\n"
     ]
    }
   ],
   "source": [
    "# check answer:\n",
    "\n",
    "d2 = np.convolve(arr_2, arr_1)\n",
    "print(d2)"
   ]
  },
  {
   "cell_type": "code",
   "execution_count": null,
   "id": "f22ed2e2-39ea-4156-af83-28507ca14411",
   "metadata": {},
   "outputs": [],
   "source": []
  }
 ],
 "metadata": {
  "kernelspec": {
   "display_name": "Python 3 (ipykernel)",
   "language": "python",
   "name": "python3"
  },
  "language_info": {
   "codemirror_mode": {
    "name": "ipython",
    "version": 3
   },
   "file_extension": ".py",
   "mimetype": "text/x-python",
   "name": "python",
   "nbconvert_exporter": "python",
   "pygments_lexer": "ipython3",
   "version": "3.11.4"
  }
 },
 "nbformat": 4,
 "nbformat_minor": 5
}
